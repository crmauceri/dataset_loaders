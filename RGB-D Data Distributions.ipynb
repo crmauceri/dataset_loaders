{
 "cells": [
  {
   "cell_type": "code",
   "execution_count": 1,
   "metadata": {},
   "outputs": [],
   "source": [
    "import matplotlib.pyplot as plt\n",
    "import scipy.stats\n",
    "import numpy as np\n",
    "from tqdm import tqdm\n",
    "\n",
    "from PIL import Image\n",
    "from torch.utils.data import DataLoader\n",
    "\n",
    "from dataloaders.config.defaults import get_cfg_defaults\n",
    "from dataloaders.utils import sample_distribution\n",
    "from dataloaders.utils import decode_segmap\n",
    "\n",
    "from dataloaders.datasets.cityscapes import CityscapesSegmentation\n",
    "from dataloaders.datasets.coco import COCOSegmentation\n",
    "from dataloaders.datasets.sunrgbd import RGBDSegmentation\n",
    "from dataloaders.datasets.scenenet import SceneNetSegmentation\n",
    "\n",
    "\n",
    "from dataloaders.SampleLoader import SampleLoader"
   ]
  },
  {
   "cell_type": "code",
   "execution_count": 2,
   "metadata": {},
   "outputs": [],
   "source": [
    "def plot_distribution(a_list, bins, percent=False):\n",
    "    ax = plt.figure()\n",
    "    bin_middle = np.array([(bins[x] + bins[x + 1]) / 2.0 for x in range(len(bins) - 1)])\n",
    "    for a in a_list:\n",
    "        n = np.histogram(a, bins=bins)[0]\n",
    "        if percent:\n",
    "            n = n / np.sum(n)\n",
    "        # y = scipy.stats.norm.pdf(b, 0, 1)\n",
    "        plt.plot(bin_middle[np.nonzero(n)], n[np.nonzero(n)])\n",
    "\n",
    "    return ax"
   ]
  },
  {
   "cell_type": "code",
   "execution_count": 3,
   "metadata": {},
   "outputs": [],
   "source": [
    "def visualize_sample(loader, sample, dataset):\n",
    "    #img_tmp = loader.invert_normalization(sample['image'].squeeze())\n",
    "    img = sample['image']\n",
    "    gt = sample['label'].numpy()\n",
    "    tmp = np.array(gt[0]).astype(np.uint8)\n",
    "    segmap = decode_segmap(tmp, dataset=dataset)\n",
    "    \n",
    "    print(sample['id'])\n",
    "    plt.figure(figsize=(16, 8))\n",
    "    \n",
    "    plt.subplot('141')\n",
    "    plt.imshow(img_tmp[:,:,:3])\n",
    "    plt.title('image')\n",
    "    plt.axis('off')\n",
    "    \n",
    "    plt.subplot('142')\n",
    "    plt.imshow(img_tmp[:,:,3:].squeeze())\n",
    "    plt.title('depth')\n",
    "    plt.axis('off')\n",
    "    \n",
    "    plt.subplot('143')\n",
    "    plt.imshow(segmap)\n",
    "    plt.title('labels')\n",
    "    plt.axis('off')"
   ]
  },
  {
   "cell_type": "markdown",
   "metadata": {},
   "source": [
    "Load configuation files for all datasets"
   ]
  },
  {
   "cell_type": "code",
   "execution_count": 4,
   "metadata": {},
   "outputs": [],
   "source": [
    "sunrgbd_rgbd = get_cfg_defaults()\n",
    "sunrgbd_rgbd.merge_from_file('configs/sunrgbd.yaml')\n",
    "sunrgbd_rgbd.merge_from_list(['DATASET.ROOT', 'datasets/SUNRGBD/'])\n",
    "\n",
    "coco_synth = get_cfg_defaults()\n",
    "coco_synth.merge_from_file('configs/coco_rgbd.yaml')\n",
    "coco_synth.merge_from_list(['DATASET.ROOT', 'datasets/coco/'])\n",
    "\n",
    "# Coarse labels not available for test set\n",
    "city_rgbd = get_cfg_defaults()\n",
    "city_rgbd.merge_from_file('configs/cityscapes_rgbd.yaml')\n",
    "city_rgbd.merge_from_list(['DATASET.ROOT', 'datasets/cityscapes/',\n",
    "                           'DATASET.NO_TRANSFORMS', True]) #, 'DATASET.CITYSCAPES.GT_MODE', 'gtFine'])\n",
    "\n",
    "city_synth = get_cfg_defaults()\n",
    "city_synth.merge_from_file('configs/cityscapes_rgbd.yaml')\n",
    "city_synth.merge_from_list(['DATASET.ROOT', 'datasets/cityscapes/', \n",
    "                            'DATASET.CITYSCAPES.GT_MODE', 'gtFine',\n",
    "                            'DATASET.CITYSCAPES.DEPTH_DIR', 'VNL_Monocular',\n",
    "                            'DATASET.NO_TRANSFORMS', True])\n",
    "\n",
    "city_hha = get_cfg_defaults()\n",
    "city_hha.merge_from_file('configs/cityscapes_rgbd.yaml')\n",
    "city_hha.merge_from_list(['DATASET.ROOT', 'datasets/cityscapes/', \n",
    "                          'DATASET.CITYSCAPES.GT_MODE', 'gtFine',\n",
    "                          'DATASET.MODE', 'RGB_HHA',\n",
    "                          'DATASET.CITYSCAPES.DEPTH_DIR', 'HHA',\n",
    "                          'DATASET.NO_TRANSFORMS', True])\n",
    "\n",
    "scenenet = get_cfg_defaults()\n",
    "scenenet.merge_from_file('configs/scenenet_rgbd.yaml')\n",
    "scenenet.merge_from_list(['DATASET.ROOT', 'datasets/scenenet/',\n",
    "                          'DATASET.NO_TRANSFORMS', True])"
   ]
  },
  {
   "cell_type": "markdown",
   "metadata": {},
   "source": [
    "## Measured (real) Depth Histograms"
   ]
  },
  {
   "cell_type": "code",
   "execution_count": 5,
   "metadata": {},
   "outputs": [
    {
     "name": "stdout",
     "output_type": "stream",
     "text": [
      "Using RGB-D input\n"
     ]
    },
    {
     "name": "stderr",
     "output_type": "stream",
     "text": [
      "\r",
      "0it [00:00, ?it/s]"
     ]
    },
    {
     "name": "stdout",
     "output_type": "stream",
     "text": [
      "Found 19997 train_extra images\n"
     ]
    },
    {
     "name": "stderr",
     "output_type": "stream",
     "text": [
      "100it [00:33,  3.01it/s]\n",
      "0it [00:00, ?it/s]"
     ]
    },
    {
     "name": "stdout",
     "output_type": "stream",
     "text": [
      "Using RGB-D input\n",
      "Found 500 val images\n"
     ]
    },
    {
     "name": "stderr",
     "output_type": "stream",
     "text": [
      "100it [00:29,  3.42it/s]\n",
      "0it [00:00, ?it/s]"
     ]
    },
    {
     "name": "stdout",
     "output_type": "stream",
     "text": [
      "Using RGB-D input\n",
      "Found 2975 train images\n"
     ]
    },
    {
     "name": "stderr",
     "output_type": "stream",
     "text": [
      "100it [00:30,  3.28it/s]\n"
     ]
    }
   ],
   "source": [
    "city_rgbd_dist_train = sample_distribution(CityscapesSegmentation(city_rgbd, split='train_extra'), n=100)\n",
    "city_rgbd_dist_val = sample_distribution(CityscapesSegmentation(city_rgbd, split='val'), n=100)\n",
    "city_rgbd_dist_test = sample_distribution(CityscapesSegmentation(city_rgbd, split='train'), n=100)"
   ]
  },
  {
   "cell_type": "code",
   "execution_count": 6,
   "metadata": {},
   "outputs": [
    {
     "data": {
      "image/png": "[encoded data removed]",
      "text/plain": [
       "<Figure size 432x288 with 1 Axes>"
      ]
     },
     "metadata": {
      "needs_background": "light"
     },
     "output_type": "display_data"
    }
   ],
   "source": [
    "city_depth_samples = city_rgbd_dist_train['samples'][:, -1]\n",
    "city_depth_samples_train = city_depth_samples[np.nonzero(city_depth_samples)]\n",
    "city_depth_samples = city_rgbd_dist_val['samples'][:, -1]\n",
    "city_depth_samples_val = city_depth_samples[np.nonzero(city_depth_samples)]\n",
    "city_depth_samples = city_rgbd_dist_test['samples'][:, -1]\n",
    "city_depth_samples_test = city_depth_samples[np.nonzero(city_depth_samples)]\n",
    "\n",
    "bins = np.linspace(-1,256, num=256)\n",
    "plot_distribution([city_depth_samples_train, \n",
    "                   city_depth_samples_val,\n",
    "                   city_depth_samples_test], bins)\n",
    "plt.legend(['Cityscapes Train', 'Cityscapes Val', 'Cityscapes Test'])\n",
    "plt.show()"
   ]
  },
  {
   "cell_type": "code",
   "execution_count": 7,
   "metadata": {},
   "outputs": [
    {
     "name": "stdout",
     "output_type": "stream",
     "text": [
      "Cityscapes mean: [79.4655     90.2314     78.4482     26.48307408] \n",
      " \t std: [46.08588515 47.07755998 46.95169344 45.05299213]\n"
     ]
    }
   ],
   "source": [
    "print(\"Cityscapes mean: {} \\n \\t std: {}\".format(city_rgbd_dist_train['mean'], \n",
    "                                                 city_rgbd_dist_train['std']))"
   ]
  },
  {
   "cell_type": "code",
   "execution_count": 8,
   "metadata": {},
   "outputs": [
    {
     "name": "stdout",
     "output_type": "stream",
     "text": [
      "Using RGB-D input\n",
      "Found 2975 train images\n"
     ]
    }
   ],
   "source": [
    "city_val = CityscapesSegmentation(city_rgbd, split='train')\n",
    "dataloader = DataLoader(city_val, batch_size=1, shuffle=True, num_workers=0)"
   ]
  },
  {
   "cell_type": "code",
   "execution_count": 9,
   "metadata": {},
   "outputs": [
    {
     "name": "stdout",
     "output_type": "stream",
     "text": [
      "['datasets/cityscapes/leftImg8bit/train/stuttgart/stuttgart_000031_000019_leftImg8bit.png']\n"
     ]
    },
    {
     "name": "stderr",
     "output_type": "stream",
     "text": [
      "<ipython-input-3-9173132ee883>:11: MatplotlibDeprecationWarning: Passing non-integers as three-element position specification is deprecated since 3.3 and will be removed two minor releases later.\n",
      "  plt.subplot('141')\n"
     ]
    },
    {
     "ename": "NameError",
     "evalue": "name 'img_tmp' is not defined",
     "output_type": "error",
     "traceback": [
      "\u001b[0;31m---------------------------------------------------------------------------\u001b[0m",
      "\u001b[0;31mNameError\u001b[0m                                 Traceback (most recent call last)",
      "\u001b[0;32m<ipython-input-9-5d50a40c0e26>\u001b[0m in \u001b[0;36m<module>\u001b[0;34m\u001b[0m\n\u001b[1;32m      1\u001b[0m \u001b[0;32mfor\u001b[0m \u001b[0mii\u001b[0m\u001b[0;34m,\u001b[0m \u001b[0msample\u001b[0m \u001b[0;32min\u001b[0m \u001b[0menumerate\u001b[0m\u001b[0;34m(\u001b[0m\u001b[0mdataloader\u001b[0m\u001b[0;34m)\u001b[0m\u001b[0;34m:\u001b[0m\u001b[0;34m\u001b[0m\u001b[0;34m\u001b[0m\u001b[0m\n\u001b[0;32m----> 2\u001b[0;31m     \u001b[0mvisualize_sample\u001b[0m\u001b[0;34m(\u001b[0m\u001b[0mcity_val\u001b[0m\u001b[0;34m.\u001b[0m\u001b[0mloader\u001b[0m\u001b[0;34m,\u001b[0m \u001b[0msample\u001b[0m\u001b[0;34m,\u001b[0m \u001b[0;34m'cityscapes'\u001b[0m\u001b[0;34m)\u001b[0m\u001b[0;34m\u001b[0m\u001b[0;34m\u001b[0m\u001b[0m\n\u001b[0m\u001b[1;32m      3\u001b[0m     \u001b[0;32mbreak\u001b[0m\u001b[0;34m\u001b[0m\u001b[0;34m\u001b[0m\u001b[0m\n",
      "\u001b[0;32m<ipython-input-3-9173132ee883>\u001b[0m in \u001b[0;36mvisualize_sample\u001b[0;34m(loader, sample, dataset)\u001b[0m\n\u001b[1;32m     10\u001b[0m \u001b[0;34m\u001b[0m\u001b[0m\n\u001b[1;32m     11\u001b[0m     \u001b[0mplt\u001b[0m\u001b[0;34m.\u001b[0m\u001b[0msubplot\u001b[0m\u001b[0;34m(\u001b[0m\u001b[0;34m'141'\u001b[0m\u001b[0;34m)\u001b[0m\u001b[0;34m\u001b[0m\u001b[0;34m\u001b[0m\u001b[0m\n\u001b[0;32m---> 12\u001b[0;31m     \u001b[0mplt\u001b[0m\u001b[0;34m.\u001b[0m\u001b[0mimshow\u001b[0m\u001b[0;34m(\u001b[0m\u001b[0mimg_tmp\u001b[0m\u001b[0;34m[\u001b[0m\u001b[0;34m:\u001b[0m\u001b[0;34m,\u001b[0m\u001b[0;34m:\u001b[0m\u001b[0;34m,\u001b[0m\u001b[0;34m:\u001b[0m\u001b[0;36m3\u001b[0m\u001b[0;34m]\u001b[0m\u001b[0;34m)\u001b[0m\u001b[0;34m\u001b[0m\u001b[0;34m\u001b[0m\u001b[0m\n\u001b[0m\u001b[1;32m     13\u001b[0m     \u001b[0mplt\u001b[0m\u001b[0;34m.\u001b[0m\u001b[0mtitle\u001b[0m\u001b[0;34m(\u001b[0m\u001b[0;34m'image'\u001b[0m\u001b[0;34m)\u001b[0m\u001b[0;34m\u001b[0m\u001b[0;34m\u001b[0m\u001b[0m\n\u001b[1;32m     14\u001b[0m     \u001b[0mplt\u001b[0m\u001b[0;34m.\u001b[0m\u001b[0maxis\u001b[0m\u001b[0;34m(\u001b[0m\u001b[0;34m'off'\u001b[0m\u001b[0;34m)\u001b[0m\u001b[0;34m\u001b[0m\u001b[0;34m\u001b[0m\u001b[0m\n",
      "\u001b[0;31mNameError\u001b[0m: name 'img_tmp' is not defined"
     ]
    },
    {
     "data": {
      "image/png": "[encoded data removed]",
      "text/plain": [
       "<Figure size 1152x576 with 1 Axes>"
      ]
     },
     "metadata": {
      "needs_background": "light"
     },
     "output_type": "display_data"
    }
   ],
   "source": [
    "for ii, sample in enumerate(dataloader):\n",
    "    visualize_sample(city_val.loader, sample, 'cityscapes')\n",
    "    break"
   ]
  },
  {
   "cell_type": "code",
   "execution_count": null,
   "metadata": {},
   "outputs": [],
   "source": [
    "sunrgbd_rgbd_dist_train = sample_distribution(RGBDSegmentation(sunrgbd_rgbd, split='train'), n=100)\n",
    "sunrgbd_rgbd_dist_val = sample_distribution(RGBDSegmentation(sunrgbd_rgbd, split='val'), n=100)\n",
    "sunrgbd_rgbd_dist_test = sample_distribution(RGBDSegmentation(sunrgbd_rgbd, split='test'), n=100)"
   ]
  },
  {
   "cell_type": "code",
   "execution_count": null,
   "metadata": {},
   "outputs": [],
   "source": [
    "sun_depth_samples = sunrgbd_rgbd_dist_train['samples'][:, -1]\n",
    "sun_depth_samples_train = sun_depth_samples[np.nonzero(sun_depth_samples)]\n",
    "\n",
    "sun_depth_samples = sunrgbd_rgbd_dist_val['samples'][:, -1]\n",
    "sun_depth_samples_val = sun_depth_samples[np.nonzero(sun_depth_samples)]\n",
    "\n",
    "sun_depth_samples = sunrgbd_rgbd_dist_test['samples'][:, -1]\n",
    "sun_depth_samples_test = sun_depth_samples[np.nonzero(sun_depth_samples)]\n",
    "\n",
    "bins = np.linspace(0,256, num=256)\n",
    "plot_distribution([sun_depth_samples_train, \n",
    "                   sun_depth_samples_val,\n",
    "                   sun_depth_samples_test], bins)\n",
    "plt.legend(['SUNRGBD Train', 'SUNRGBD Val', 'SUNRGBD Test'])\n",
    "plt.show()"
   ]
  },
  {
   "cell_type": "code",
   "execution_count": null,
   "metadata": {},
   "outputs": [],
   "source": [
    "print(\"SUNRGBD mean: {} \\n \\t std: {}\".format(sunrgbd_rgbd_dist_train['mean'], \n",
    "                                                 sunrgbd_rgbd_dist_train['std']))"
   ]
  },
  {
   "cell_type": "code",
   "execution_count": null,
   "metadata": {},
   "outputs": [],
   "source": [
    "sunrgbd_val = RGBDSegmentation(sunrgbd_rgbd, split='train')\n",
    "dataloader = DataLoader(sunrgbd_val, batch_size=1, shuffle=True, num_workers=0)"
   ]
  },
  {
   "cell_type": "code",
   "execution_count": null,
   "metadata": {},
   "outputs": [],
   "source": [
    "for ii, sample in enumerate(dataloader):\n",
    "    visualize_sample(sunrgbd_val.loader, sample, 'sunrgbd')\n",
    "    break"
   ]
  },
  {
   "cell_type": "markdown",
   "metadata": {},
   "source": [
    "## Cityscapes HHA vs RGB\n",
    "\n",
    "Comparison between the histogram of the RGB values and the HHA values shows a very different data characteristics that hinder transfer learning"
   ]
  },
  {
   "cell_type": "code",
   "execution_count": null,
   "metadata": {},
   "outputs": [],
   "source": [
    "bins = np.linspace(0,255, num=256)\n",
    "plot_distribution([city_rgbd_dist_train['samples'][:, 0],\n",
    "                  city_rgbd_dist_train['samples'][:, 1],\n",
    "                  city_rgbd_dist_train['samples'][:, 2]], bins)\n",
    "plt.title(\"RGB histogram\")\n",
    "plt.legend([\"Red\", \"Green\", \"Blue\"])\n",
    "plt.show()\n"
   ]
  },
  {
   "cell_type": "code",
   "execution_count": null,
   "metadata": {},
   "outputs": [],
   "source": [
    "city_hha_dist_train = sample_distribution(CityscapesSegmentation(city_hha, split='train'), n=100)\n",
    "city_hha_dist_val = sample_distribution(CityscapesSegmentation(city_hha, split='val'), n=100)\n",
    "city_hha_dist_test = sample_distribution(CityscapesSegmentation(city_hha, split='test'), n=100)"
   ]
  },
  {
   "cell_type": "code",
   "execution_count": null,
   "metadata": {},
   "outputs": [],
   "source": [
    "bins = np.linspace(0,255, num=256)\n",
    "\n",
    "#Train\n",
    "H1 = city_hha_dist_train['samples'][:,3]\n",
    "H1_train = H1[np.nonzero(H1)]\n",
    "\n",
    "H2 = city_hha_dist_train['samples'][:,4]\n",
    "H2 = H2[np.nonzero(H2)]\n",
    "H2_train = H2[H2<255]\n",
    "\n",
    "A = city_hha_dist_train['samples'][:,5]\n",
    "A_train = A[np.nonzero(A)]\n",
    "\n",
    "# Val\n",
    "H1 = city_hha_dist_val['samples'][:,3]\n",
    "H1_val = H1[np.nonzero(H1)]\n",
    "\n",
    "H2 = city_hha_dist_val['samples'][:,4]\n",
    "H2 = H2[np.nonzero(H2)]\n",
    "H2_val = H2[H2<255]\n",
    "\n",
    "A = city_hha_dist_val['samples'][:,5]\n",
    "A_val = A[np.nonzero(A)]\n",
    "\n",
    "#Test\n",
    "H1 = city_hha_dist_test['samples'][:,3]\n",
    "H1_test = H1[np.nonzero(H1)]\n",
    "\n",
    "H2 = city_hha_dist_test['samples'][:,4]\n",
    "H2 = H2[np.nonzero(H2)]\n",
    "H2_test = H2[H2<255]\n",
    "\n",
    "A = city_hha_dist_test['samples'][:,5]\n",
    "A_test = A[np.nonzero(A)]\n",
    "\n",
    "\n",
    "plot_distribution([H1_train, H2_train, A_train,\n",
    "                  H1_val, H2_val, A_val,\n",
    "                  H1_test, H2_test, A_test], bins)\n",
    "plt.title(\"HHA histogram\")\n",
    "plt.legend([\"Horizontal disparity\", \"Height above ground\", \"Angle of surface normal\"])\n",
    "plt.show()\n"
   ]
  },
  {
   "cell_type": "code",
   "execution_count": null,
   "metadata": {},
   "outputs": [],
   "source": [
    "print(\"Cityscapes HHA mean: {} \\n \\t std: {}\".format(city_hha_dist_train['mean'], \n",
    "                                                 city_hha_dist_train['std']))"
   ]
  },
  {
   "cell_type": "code",
   "execution_count": null,
   "metadata": {},
   "outputs": [],
   "source": [
    "city_hha_val = CityscapesSegmentation(city_hha, split='train')\n",
    "dataloader = DataLoader(city_hha_val, batch_size=1, shuffle=True, num_workers=0)\n",
    "for ii, sample in enumerate(dataloader):\n",
    "    visualize_sample(city_hha_val.loader, sample, 'cityscapes')\n",
    "    break"
   ]
  },
  {
   "cell_type": "markdown",
   "metadata": {},
   "source": [
    "## COCO VNL Monocular Depth Estimation\n",
    "COCO synthetic depth is generated using a model trained on NYUv2, a dataset of interior scenes. Therefore the estimated depths range between \\[0, 12\\] meters"
   ]
  },
  {
   "cell_type": "code",
   "execution_count": null,
   "metadata": {},
   "outputs": [],
   "source": [
    "coco_synth_dist_train = sample_distribution(COCOSegmentation(coco_synth, split='train'), n=100)\n",
    "coco_synth_dist_val = sample_distribution(COCOSegmentation(coco_synth, split='val'), n=100)\n",
    "#coco_synth_dist_test = sample_distribution(COCOSegmentation(coco_synth, split='test'), n=100)"
   ]
  },
  {
   "cell_type": "code",
   "execution_count": null,
   "metadata": {},
   "outputs": [],
   "source": [
    "bins = np.linspace(0,256, num=256)\n",
    "plot_distribution([coco_synth_dist_train['samples'][:, -1], \n",
    "                   coco_synth_dist_val['samples'][:, -1]], bins)\n",
    "                   #coco_synth_dist_test['samples'][:, -1]], bins)\n",
    "plt.legend(['COCO Train', 'COCO Val'])\n",
    "plt.show()"
   ]
  },
  {
   "cell_type": "code",
   "execution_count": null,
   "metadata": {},
   "outputs": [],
   "source": [
    "print(\"COCO VNL mean: {} \\n \\t std: {}\".format(coco_synth_dist_train['mean'], \n",
    "                                                 coco_synth_dist_train['std']))"
   ]
  },
  {
   "cell_type": "code",
   "execution_count": null,
   "metadata": {},
   "outputs": [],
   "source": [
    "coco_val = COCOSegmentation(coco_synth, split='train')\n",
    "dataloader = DataLoader(coco_val, batch_size=1, shuffle=True, num_workers=0)\n",
    "for ii, sample in enumerate(dataloader):\n",
    "    visualize_sample(coco_val.loader, sample, 'coco')\n",
    "    break"
   ]
  },
  {
   "cell_type": "markdown",
   "metadata": {},
   "source": [
    "## Cityscapes VNL Monocular Depth Estimation\n",
    "Cityscapes synthetic depth is generated using a model trained on KITTI, a dataset for autonomous driving. Therefore the estimated depths range between \\[0, 150\\] meters"
   ]
  },
  {
   "cell_type": "code",
   "execution_count": null,
   "metadata": {},
   "outputs": [],
   "source": [
    "city_synth_dist_train = sample_distribution(CityscapesSegmentation(city_synth, split='train'), n=100)\n",
    "city_synth_dist_val = sample_distribution(CityscapesSegmentation(city_synth, split='val'), n=100)\n",
    "city_synth_dist_test = sample_distribution(CityscapesSegmentation(city_synth, split='test'), n=100)"
   ]
  },
  {
   "cell_type": "code",
   "execution_count": null,
   "metadata": {},
   "outputs": [],
   "source": [
    "bins = np.linspace(0,256, num=256)\n",
    "plot_distribution([city_synth_dist_train['samples'][:, -1], \n",
    "                   city_synth_dist_val['samples'][:, -1],\n",
    "                   city_synth_dist_test['samples'][:, -1]], bins)\n",
    "plt.legend(['Cityscapes Train', 'Cityscapes Val', 'Cityscapes Test'])\n",
    "plt.show()"
   ]
  },
  {
   "cell_type": "code",
   "execution_count": null,
   "metadata": {},
   "outputs": [],
   "source": [
    "print(\"Cityscapes VNL mean: {} \\n \\t std: {}\".format(city_synth_dist_train['mean'], \n",
    "                                                 city_synth_dist_train['std']))"
   ]
  },
  {
   "cell_type": "code",
   "execution_count": null,
   "metadata": {},
   "outputs": [],
   "source": [
    "city_synth_val = CityscapesSegmentation(city_synth, split='train')\n",
    "dataloader = DataLoader(city_synth_val, batch_size=1, shuffle=True, num_workers=0)\n",
    "for ii, sample in enumerate(dataloader):\n",
    "    visualize_sample(city_synth_val.loader, sample, 'cityscapes')\n",
    "    break"
   ]
  },
  {
   "cell_type": "markdown",
   "metadata": {},
   "source": [
    "## Scenenet Synthetic Rendered Depth"
   ]
  },
  {
   "cell_type": "code",
   "execution_count": null,
   "metadata": {},
   "outputs": [],
   "source": [
    "# scenenet_dist_train = sample_distribution(SceneNetSegmentation(scenenet, split='train'), n=100)\n",
    "# scenenet_dist_val = sample_distribution(SceneNetSegmentation(scenenet, split='val'), n=100)\n",
    "scenenet_dist_test = sample_distribution(SceneNetSegmentation(scenenet, split='test'), n=100)"
   ]
  },
  {
   "cell_type": "code",
   "execution_count": null,
   "metadata": {},
   "outputs": [],
   "source": [
    "bins = np.linspace(0,256, num=256)\n",
    "plot_distribution([scenenet_dist_test['samples'][:, -1]], bins)\n",
    "plt.legend(['Scenenet Test'])\n",
    "plt.show()"
   ]
  },
  {
   "cell_type": "code",
   "execution_count": null,
   "metadata": {},
   "outputs": [],
   "source": [
    "print(\"Scenenet mean: {} \\n \\t std: {}\".format(scenenet_dist_test['mean'], \n",
    "                                                 scenenet_dist_test['std']))"
   ]
  },
  {
   "cell_type": "code",
   "execution_count": null,
   "metadata": {},
   "outputs": [],
   "source": [
    "scenenet_test = SceneNetSegmentation(scenenet, split='test')\n",
    "dataloader = DataLoader(scenenet_test, batch_size=1, shuffle=True, num_workers=0)\n",
    "for ii, sample in enumerate(dataloader):\n",
    "    visualize_sample(scenenet_test.loader, sample, 'coco')\n",
    "    break"
   ]
  },
  {
   "cell_type": "markdown",
   "metadata": {},
   "source": [
    "## Comparison of estimated and target distributions\n",
    "We use the synthetic depth to pretrain segmentation networks for smaller datasets with real depth. The COCO dataset is used to pretrain for segmenting the SUNRGBD dataset. And the Cityscapes dataset is used to experiment with synthetic pretraining on different dataset scales. \n",
    "\n",
    "In the following plot, we compare the distributions to show the differences between the pretraining and real depth measurements."
   ]
  },
  {
   "cell_type": "code",
   "execution_count": null,
   "metadata": {},
   "outputs": [],
   "source": [
    "city_depth_samples = city_rgbd_dist_train['samples'][:, -1]\n",
    "city_depth_samples = city_depth_samples[np.nonzero(city_depth_samples)]\n",
    "\n",
    "city_synth_samples = city_synth_dist_train['samples'][:, -1]\n",
    "city_synth_samples = city_synth_samples[np.nonzero(city_synth_samples)]\n",
    "\n",
    "coco_depth_samples = coco_synth_dist_train['samples'][:, -1]\n",
    "coco_depth_samples = coco_depth_samples[np.nonzero(coco_depth_samples)]\n",
    "\n",
    "sun_depth_samples = sunrgbd_rgbd_dist_train['samples'][:, -1]\n",
    "sun_depth_samples = sun_depth_samples[np.nonzero(sun_depth_samples)]\n",
    "sun_depth_samples = sun_depth_samples[sun_depth_samples<255]\n",
    "\n",
    "bins = np.linspace(0,256, num=256)\n",
    "plot_distribution([city_depth_samples, sun_depth_samples, \n",
    "                   city_synth_samples, coco_depth_samples], bins)\n",
    "plt.legend(['Cityscapes', 'SUNRGB-D', 'Cityscapes VNL Synthetic Depth', 'COCO VNL Synthetic Depth'])\n",
    "plt.show()"
   ]
  },
  {
   "cell_type": "markdown",
   "metadata": {},
   "source": [
    "We normalize the datasets to zero mean and unit std."
   ]
  },
  {
   "cell_type": "code",
   "execution_count": null,
   "metadata": {},
   "outputs": [],
   "source": [
    "def norm(samples, mean, std):\n",
    "    return (samples - mean)/std"
   ]
  },
  {
   "cell_type": "code",
   "execution_count": null,
   "metadata": {},
   "outputs": [],
   "source": [
    "print(\"Cityscapes mean: {} \\n \\t std: {}\".format(city_rgbd_dist_train['mean'], \n",
    "                                                 city_rgbd_dist_train['std']))\n",
    "print(\"SUNRGBD mean: {} \\n \\t std: {}\".format(sunrgbd_rgbd_dist_train['mean'], \n",
    "                                                 sunrgbd_rgbd_dist_train['std']))\n",
    "print(\"Cityscapes VNL mean: {} \\n \\t std: {}\".format(city_synth_dist_train['mean'], \n",
    "                                                 city_synth_dist_train['std']))\n",
    "print(\"COCO VNL mean: {} \\n \\t std: {}\".format(coco_synth_dist_train['mean'], \n",
    "                                                 coco_synth_dist_train['std']))"
   ]
  },
  {
   "cell_type": "code",
   "execution_count": null,
   "metadata": {},
   "outputs": [],
   "source": [
    "city_depth_samples = city_rgbd_dist_train['samples'][:, -1]\n",
    "city_depth_samples = norm(city_depth_samples[np.nonzero(city_depth_samples)], \n",
    "                          city_rgbd_dist_train['mean'][-1], city_rgbd_dist_train['std'][-1])\n",
    "\n",
    "city_synth_samples = city_synth_dist_train['samples'][:, -1]\n",
    "city_synth_samples = norm(city_synth_samples[np.nonzero(city_synth_samples)], \n",
    "                          city_synth_dist_train['mean'][-1], city_synth_dist_train['std'][-1])\n",
    "\n",
    "coco_depth_samples = coco_synth_dist_train['samples'][:, -1]\n",
    "coco_depth_samples = norm(coco_depth_samples[np.nonzero(coco_depth_samples)], \n",
    "                          coco_synth_dist_train['mean'][-1], coco_synth_dist_train['std'][-1])\n",
    "\n",
    "sun_depth_samples = sunrgbd_rgbd_dist_train['samples'][:, -1]\n",
    "sun_depth_samples = sun_depth_samples[np.nonzero(sun_depth_samples)]\n",
    "sun_depth_samples = norm(sun_depth_samples[sun_depth_samples<255], \n",
    "                         sunrgbd_rgbd_dist_train['mean'][-1], sunrgbd_rgbd_dist_train['std'][-1])\n",
    "\n",
    "bins = np.linspace(-1,2, num=256)\n",
    "plot_distribution([city_depth_samples, sun_depth_samples, \n",
    "                   city_synth_samples, coco_depth_samples], bins, percent=True)\n",
    "plt.legend(['Cityscapes', 'SUNRGB-D', 'Cityscapes VNL Synthetic Depth', 'COCO VNL Synthetic Depth'])\n",
    "plt.xlim(right=2)\n",
    "plt.show()"
   ]
  },
  {
   "cell_type": "markdown",
   "metadata": {},
   "source": [
    "## Experiments with Box Cox"
   ]
  },
  {
   "cell_type": "code",
   "execution_count": null,
   "metadata": {},
   "outputs": [],
   "source": [
    "import scipy.stats\n",
    "\n",
    "city_depth_samples = city_rgbd_dist_train['samples'][:, -1]\n",
    "city_depth_samples_cox = scipy.stats.boxcox(city_depth_samples[np.nonzero(city_depth_samples)], -0.5)\n",
    "city_depth_samples_cox = norm(city_depth_samples_cox, np.mean(city_depth_samples_cox), np.std(city_depth_samples_cox))\n",
    "\n",
    "\n",
    "city_synth_samples = city_synth_dist_train['samples'][:, -1]\n",
    "city_synth_samples_cox = scipy.stats.boxcox(city_synth_samples[np.nonzero(city_synth_samples)], -0.5)\n",
    "city_synth_samples_cox = norm(city_synth_samples_cox, np.mean(city_synth_samples_cox), np.std(city_synth_samples_cox))\n",
    "\n",
    "\n",
    "coco_depth_samples = coco_synth_dist_train['samples'][:, -1]\n",
    "coco_depth_samples_cox = scipy.stats.boxcox(coco_depth_samples[np.nonzero(coco_depth_samples)], -0.5)\n",
    "coco_depth_samples_cox = norm(coco_depth_samples_cox, np.mean(coco_depth_samples_cox), np.std(coco_depth_samples_cox))\n",
    "\n",
    "\n",
    "sun_depth_samples = sunrgbd_rgbd_dist_train['samples'][:, -1]\n",
    "sun_depth_samples_cox = scipy.stats.boxcox(sun_depth_samples[np.nonzero(sun_depth_samples)], -0.5)\n",
    "sun_depth_samples_cox = norm(sun_depth_samples_cox, np.mean(sun_depth_samples_cox), np.std(sun_depth_samples_cox))\n",
    "\n",
    "\n",
    "bins = np.linspace(-1,2, num=256)\n",
    "plot_distribution([city_depth_samples_cox, sun_depth_samples_cox, \n",
    "                   city_synth_samples_cox, coco_depth_samples_cox], bins)\n",
    "plt.legend(['Cityscapes', 'SUNRGB-D', 'Cityscapes VNL Synthetic Depth', 'COCO VNL Synthetic Depth'])\n",
    "plt.show()"
   ]
  },
  {
   "cell_type": "code",
   "execution_count": null,
   "metadata": {},
   "outputs": [],
   "source": []
  }
 ],
 "metadata": {
  "kernelspec": {
   "display_name": "Python 3",
   "language": "python",
   "name": "python3"
  },
  "language_info": {
   "codemirror_mode": {
    "name": "ipython",
    "version": 3
   },
   "file_extension": ".py",
   "mimetype": "text/x-python",
   "name": "python",
   "nbconvert_exporter": "python",
   "pygments_lexer": "ipython3",
   "version": "3.8.8"
  }
 },
 "nbformat": 4,
 "nbformat_minor": 4
}
